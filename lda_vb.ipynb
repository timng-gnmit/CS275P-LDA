{
 "cells": [
  {
   "cell_type": "markdown",
   "id": "98e9db66",
   "metadata": {},
   "source": [
    "# Latent Dirichlet Allocation - Variational Bayes methods"
   ]
  },
  {
   "cell_type": "code",
   "execution_count": 3,
   "id": "1749bd55",
   "metadata": {},
   "outputs": [],
   "source": [
    "# ok we're gonna try using the custom py file that i made LMAOOOO\n",
    "# i hope it doesnt crash\n",
    "import os\n",
    "import numpy as np\n",
    "import pandas as pd\n",
    "import matplotlib.pyplot as plt\n",
    "from lda_utils import get_docs, LDA, parse_docs"
   ]
  },
  {
   "cell_type": "code",
   "execution_count": 4,
   "id": "58cf67fc",
   "metadata": {},
   "outputs": [
    {
     "data": {
      "text/plain": [
       "array(['business', 'entertainment', 'politics', 'sport', 'tech'],\n",
       "      dtype=object)"
      ]
     },
     "execution_count": 4,
     "metadata": {},
     "output_type": "execute_result"
    }
   ],
   "source": [
    "df = pd.read_csv(\"bbc-news-data.csv\", sep=\"\\t\")\n",
    "np.unique(df.category)"
   ]
  },
  {
   "cell_type": "code",
   "execution_count": 5,
   "id": "ed16cb84",
   "metadata": {},
   "outputs": [],
   "source": [
    "# step 1: get the vocabulary and word id/count lists\n",
    "vocab, word_ids, word_cts = get_docs()"
   ]
  },
  {
   "cell_type": "code",
   "execution_count": 6,
   "id": "fd24450b",
   "metadata": {},
   "outputs": [
    {
     "data": {
      "text/plain": [
       "28913"
      ]
     },
     "execution_count": 6,
     "metadata": {},
     "output_type": "execute_result"
    }
   ],
   "source": [
    "len(vocab)"
   ]
  },
  {
   "cell_type": "code",
   "execution_count": 7,
   "id": "c5e9f112",
   "metadata": {},
   "outputs": [],
   "source": [
    "# step 2: define parameters\n",
    "# here I'm just using the default parameters that seem to work well for other people\n",
    "n_topics = 5\n",
    "alpha = 0.1\n",
    "eta = 0.1\n",
    "learning_offset = 10\n",
    "kappa = 0.7\n",
    "maxiters = 100\n",
    "thres = 1e-3\n",
    "\n",
    "n_epochs = 2"
   ]
  },
  {
   "cell_type": "code",
   "execution_count": 8,
   "id": "4d3c3958",
   "metadata": {},
   "outputs": [],
   "source": [
    "# step 3: split into train, test\n",
    "np.random.seed(np.sum([ord(c) for c in \"UCI CS 275P LDA\"]))\n",
    "split = 0.9\n",
    "train_idx = np.random.permutation(np.arange(len(word_ids)))[:int(split*len(word_ids))]\n",
    "\n",
    "train_word_ids = []\n",
    "train_word_cts = []\n",
    "test_word_ids = []\n",
    "test_word_cts = []\n",
    "for idx in range(len(word_ids)):\n",
    "    if idx in train_idx:\n",
    "        train_word_ids.append(word_ids[idx])\n",
    "        train_word_cts.append(word_cts[idx])\n",
    "    else:\n",
    "        test_word_ids.append(word_ids[idx])\n",
    "        test_word_cts.append(word_cts[idx])"
   ]
  },
  {
   "cell_type": "code",
   "execution_count": 9,
   "id": "b70beeba",
   "metadata": {},
   "outputs": [],
   "source": [
    "# step 4: LDA class instance\n",
    "model = LDA(vocab, n_topics, len(train_word_ids), alpha, eta, learning_offset, kappa, maxiters, thres)"
   ]
  },
  {
   "cell_type": "code",
   "execution_count": 10,
   "id": "2fe87149",
   "metadata": {},
   "outputs": [],
   "source": [
    "# making a new folder to store lambdas\n",
    "cwd = os.getcwd()\n",
    "lambdas_path = f'{cwd}/lambdas/'\n",
    "if os.path.exists(lambdas_path):\n",
    "    for root, _, files in os.walk(lambdas_path, topdown=False):\n",
    "        for name in files:\n",
    "            os.remove(os.path.join(root, name))\n",
    "        os.rmdir(root)\n",
    "\n",
    "os.mkdir(lambdas_path)"
   ]
  },
  {
   "cell_type": "code",
   "execution_count": 11,
   "id": "4fd5d0d9",
   "metadata": {},
   "outputs": [
    {
     "name": "stdout",
     "output_type": "stream",
     "text": [
      "epoch[1/2] - batch [  1/41] - NLL=4476631.881339816\n",
      "epoch[1/2] - batch [  2/41] - NLL=4352955.383628982\n",
      "epoch[1/2] - batch [  3/41] - NLL=3775118.1676843846\n",
      "epoch[1/2] - batch [  4/41] - NLL=4285149.20075738\n",
      "epoch[1/2] - batch [  5/41] - NLL=4087412.184819961\n",
      "epoch[1/2] - batch [  6/41] - NLL=4205661.055338493\n",
      "epoch[1/2] - batch [  7/41] - NLL=4219793.514081275\n",
      "epoch[1/2] - batch [  8/41] - NLL=3810857.063095509\n",
      "epoch[1/2] - batch [  9/41] - NLL=3792649.853037477\n",
      "epoch[1/2] - batch [ 10/41] - NLL=3799285.0301898615\n",
      "epoch[1/2] - batch [ 11/41] - NLL=4668290.620943745\n",
      "epoch[1/2] - batch [ 12/41] - NLL=3734391.415852889\n",
      "epoch[1/2] - batch [ 13/41] - NLL=4112233.445892228\n",
      "epoch[1/2] - batch [ 14/41] - NLL=4776022.515475217\n",
      "epoch[1/2] - batch [ 15/41] - NLL=4242868.320970874\n",
      "epoch[1/2] - batch [ 16/41] - NLL=4090169.515927693\n",
      "epoch[1/2] - batch [ 17/41] - NLL=4106041.8595626643\n",
      "epoch[1/2] - batch [ 18/41] - NLL=3907053.083268461\n",
      "epoch[1/2] - batch [ 19/41] - NLL=3606766.1827460527\n",
      "epoch[1/2] - batch [ 20/41] - NLL=4368549.293789082\n",
      "epoch[1/2] - batch [ 21/41] - NLL=3961604.272874141\n",
      "epoch[1/2] - batch [ 22/41] - NLL=4242743.21547654\n",
      "epoch[1/2] - batch [ 23/41] - NLL=3632731.5983681246\n",
      "epoch[1/2] - batch [ 24/41] - NLL=4059554.212705344\n",
      "epoch[1/2] - batch [ 25/41] - NLL=4023061.1973174782\n",
      "epoch[1/2] - batch [ 26/41] - NLL=4240916.996599928\n",
      "epoch[1/2] - batch [ 27/41] - NLL=3862488.28098434\n",
      "epoch[1/2] - batch [ 28/41] - NLL=4594083.197983827\n",
      "epoch[1/2] - batch [ 29/41] - NLL=3711824.1235139086\n",
      "epoch[1/2] - batch [ 30/41] - NLL=3449198.452146736\n",
      "epoch[1/2] - batch [ 31/41] - NLL=4402668.638371934\n",
      "epoch[1/2] - batch [ 32/41] - NLL=4063765.8766975035\n",
      "epoch[1/2] - batch [ 33/41] - NLL=4007399.9851601557\n",
      "epoch[1/2] - batch [ 34/41] - NLL=3812178.5353493253\n",
      "epoch[1/2] - batch [ 35/41] - NLL=3593155.8068137416\n",
      "epoch[1/2] - batch [ 36/41] - NLL=4371129.550225633\n",
      "epoch[1/2] - batch [ 37/41] - NLL=4193322.2991097723\n",
      "epoch[1/2] - batch [ 38/41] - NLL=4469270.30684316\n",
      "epoch[1/2] - batch [ 39/41] - NLL=3617276.1872424865\n",
      "epoch[1/2] - batch [ 40/41] - NLL=3886669.596685827\n",
      "epoch[1/2] - batch [ 41/41] - NLL=4412565.5243611485\n",
      "epoch[2/2] - batch [  1/41] - NLL=4461126.3975079665\n",
      "epoch[2/2] - batch [  2/41] - NLL=3731237.8599032457\n",
      "epoch[2/2] - batch [  3/41] - NLL=3783573.3797102827\n",
      "epoch[2/2] - batch [  4/41] - NLL=3463179.5192001634\n",
      "epoch[2/2] - batch [  5/41] - NLL=4077620.972264283\n",
      "epoch[2/2] - batch [  6/41] - NLL=4562274.9487307295\n",
      "epoch[2/2] - batch [  7/41] - NLL=3792999.0262815496\n",
      "epoch[2/2] - batch [  8/41] - NLL=3598156.00598701\n",
      "epoch[2/2] - batch [  9/41] - NLL=4076487.704850121\n",
      "epoch[2/2] - batch [ 10/41] - NLL=3870848.7581905844\n",
      "epoch[2/2] - batch [ 11/41] - NLL=3533905.7527929875\n",
      "epoch[2/2] - batch [ 12/41] - NLL=3720082.166198423\n",
      "epoch[2/2] - batch [ 13/41] - NLL=4730521.7967158\n",
      "epoch[2/2] - batch [ 14/41] - NLL=4203276.483197317\n",
      "epoch[2/2] - batch [ 15/41] - NLL=3589495.2417300995\n",
      "epoch[2/2] - batch [ 16/41] - NLL=3483511.2193507697\n",
      "epoch[2/2] - batch [ 17/41] - NLL=3452445.039490031\n",
      "epoch[2/2] - batch [ 18/41] - NLL=4024853.4048214876\n",
      "epoch[2/2] - batch [ 19/41] - NLL=3904482.227584708\n",
      "epoch[2/2] - batch [ 20/41] - NLL=4189576.845111453\n",
      "epoch[2/2] - batch [ 21/41] - NLL=4189019.412603872\n",
      "epoch[2/2] - batch [ 22/41] - NLL=4195494.294422918\n",
      "epoch[2/2] - batch [ 23/41] - NLL=3620226.040357457\n",
      "epoch[2/2] - batch [ 24/41] - NLL=3999955.6947280685\n",
      "epoch[2/2] - batch [ 25/41] - NLL=4412664.454560044\n",
      "epoch[2/2] - batch [ 26/41] - NLL=3682764.87062034\n",
      "epoch[2/2] - batch [ 27/41] - NLL=4158156.6503824154\n",
      "epoch[2/2] - batch [ 28/41] - NLL=3826216.2828056063\n",
      "epoch[2/2] - batch [ 29/41] - NLL=4043474.2403309187\n",
      "epoch[2/2] - batch [ 30/41] - NLL=3433727.1105785393\n",
      "epoch[2/2] - batch [ 31/41] - NLL=4250272.96329806\n",
      "epoch[2/2] - batch [ 32/41] - NLL=3798905.401700971\n",
      "epoch[2/2] - batch [ 33/41] - NLL=3558409.3115455518\n",
      "epoch[2/2] - batch [ 34/41] - NLL=4379374.9201293625\n",
      "epoch[2/2] - batch [ 35/41] - NLL=3910753.2584771267\n",
      "epoch[2/2] - batch [ 36/41] - NLL=3837842.5438675284\n",
      "epoch[2/2] - batch [ 37/41] - NLL=3826300.9748008912\n",
      "epoch[2/2] - batch [ 38/41] - NLL=3769673.8442819547\n",
      "epoch[2/2] - batch [ 39/41] - NLL=4150424.987659082\n",
      "epoch[2/2] - batch [ 40/41] - NLL=4082352.73948856\n",
      "epoch[2/2] - batch [ 41/41] - NLL=3118884.126728822\n"
     ]
    }
   ],
   "source": [
    "# step 5: batch data and train\n",
    "# for bbc news data, there are 2225 articles\n",
    "# with the seed defined above and an 80% split, there are 1780 articles in train\n",
    "# we can try 178 batches of size 10?\n",
    "# for a 90% split, there are 2002 documents\n",
    "n_train = len(train_word_ids)\n",
    "batch_size = 50\n",
    "n_batches = int(np.ceil(n_train / batch_size))\n",
    "\n",
    "# train\n",
    "verbose = True\n",
    "\n",
    "# remember group evolution\n",
    "n_largest = 10\n",
    "group_evolution = np.empty((n_batches*n_epochs, n_topics, 10), dtype='U100')\n",
    "\n",
    "np.random.seed(np.sum([ord(c) for c in \"UCI CS 275P LDA\"]))\n",
    "\n",
    "for epoch in range(n_epochs):\n",
    "    # shuffle the batch\n",
    "    shuffle = np.random.permutation(train_idx)\n",
    "    train_word_ids = [word_ids[j] for j in shuffle]\n",
    "    train_word_cts = [word_cts[j] for j in shuffle]\n",
    "    for i in range(n_batches):\n",
    "        # save the group evolution\n",
    "        for k in range(n_topics):\n",
    "            top_n = np.argpartition(model._expElogbeta[k], -n_largest)[-n_largest:]\n",
    "            group_evolution[epoch*n_batches + i,k] = np.array([list(vocab.keys())[i] for i in top_n], dtype='U100')\n",
    "\n",
    "        # index the words\n",
    "        start = i*batch_size\n",
    "        end = min(len(train_word_ids), (i+1)*batch_size)\n",
    "        batch_ids = train_word_ids[start:end]\n",
    "        batch_cts = train_word_cts[start:end]\n",
    "\n",
    "        gamma, bound = model.update_lambda(batch_ids, batch_cts)\n",
    "        np.savetxt(f'{lambdas_path}lambda_{epoch}_{i:03}.txt', model._lambda.T)\n",
    "        if verbose:\n",
    "            print(f\"epoch[{epoch+1}/{n_epochs}] - batch [{i+1:3}/{n_batches}] - NLL={-bound}\")\n",
    "        "
   ]
  },
  {
   "cell_type": "code",
   "execution_count": null,
   "id": "6f7c34bc",
   "metadata": {},
   "outputs": [
    {
     "name": "stdout",
     "output_type": "stream",
     "text": [
      "Initial topic 1: ['hostway' 'rushed' 'sorrells' 'exceed' 'marchionne' 'preventative'\n",
      " 'trifling' 'addsince' 'ceo' 'knighting']\n",
      "Initial topic 2: ['randell' 'vaile' 'firm' 'refunds' 'patois' 'rise' 'spurring' 'cosiness'\n",
      " 'theriault' 'thrills']\n",
      "Initial topic 3: ['pendleton' 'yh' 'bruckheimer' 'ii' 'benn' 'prettejohn' 'backside'\n",
      " 'priceless' 'cullen' 'te']\n",
      "Initial topic 4: ['neglected' 'impresario' 'kinds' 'enjoying' 'godzilla' 'scabbers' 'obese'\n",
      " 'ofsquabbling' 'rd' 'appointed']\n",
      "Initial topic 5: ['simpler' 'kathy' 'ended' 'monica' 'common' 'understands' 'heralded'\n",
      " 'misrepresented' 'berhanu' 'eraa']\n",
      "\n",
      "1 epoch, topic 1: ['england' 'year' 'good' 'two' 'last' 'win' 'back' 'time' 'game' 'first']\n",
      "1 epoch, topic 2: ['world' 'company' 'sales' 'year' 'market' 'years' 'new' 'last' 'us'\n",
      " 'growth']\n",
      "1 epoch, topic 3: ['years' 'number' 'starring' 'awards' 'star' 'oceans' 'award' 'sequel'\n",
      " 'film' 'best']\n",
      "1 epoch, topic 4: ['spokesman' 'party' 'blair' 'home' 'people' 'government' 'public'\n",
      " 'election' 'labour' 'say']\n",
      "1 epoch, topic 5: ['software' 'users' 'phone' 'many' 'games' 'mobile' 'technology' 'people'\n",
      " 'new' 'music']\n",
      "\n",
      "2 epochs, topic 1: ['world', 'england', 'back', 'win', 'year', 'time', 'match', 'game', 'first', 'two']\n",
      "2 epochs, topic 2: ['economy', 'years', 'sales', 'year', 'company', 'new', 'growth', 'last', 'us', 'market']\n",
      "2 epochs, topic 3: ['films', 'show', 'number', 'star', 'music', 'awards', 'award', 'years', 'film', 'best']\n",
      "2 epochs, topic 4: ['minister', 'government', 'election', 'party', 'say', 'people', 'blair', 'new', 'labour', 'public']\n",
      "2 epochs, topic 5: ['tv', 'many', 'games', 'technology', 'mobile', 'music', 'digital', 'users', 'people', 'new']\n"
     ]
    }
   ],
   "source": [
    "print(\"INIT\")\n",
    "for k in range(n_topics):\n",
    "    print(f\"Topic {k+1}:\")\n",
    "    for i in range(10):\n",
    "        print(f\"{group_evolution[0, k, i]}\")\n",
    "print()\n",
    "print(\"EPOCH 1\")\n",
    "for k in range(n_topics):\n",
    "    print(f\"Topic {k+1}:\")\n",
    "    for i in range(10):\n",
    "        print(f\"{group_evolution[n_batches, k, i]}\")\n",
    "print()\n",
    "print(\"EPOCH 2\")\n",
    "for topic in range(n_topics):\n",
    "    top_n = np.argpartition(model._expElogbeta[topic], -n_largest)[-n_largest:]\n",
    "    out = \"\"\n",
    "    for i in top_n:\n",
    "        out += list(vocab.keys())[i] + \"\\n\"\n"
   ]
  },
  {
   "cell_type": "code",
   "execution_count": 13,
   "id": "94ef78d9",
   "metadata": {},
   "outputs": [
    {
     "name": "stdout",
     "output_type": "stream",
     "text": [
      "top 10 words from topic 1: ['world', 'england', 'back', 'win', 'year', 'time', 'match', 'game', 'first', 'two']\n",
      "top 10 words from topic 2: ['economy', 'years', 'sales', 'year', 'company', 'new', 'growth', 'last', 'us', 'market']\n",
      "top 10 words from topic 3: ['films', 'show', 'number', 'star', 'music', 'awards', 'award', 'years', 'film', 'best']\n",
      "top 10 words from topic 4: ['minister', 'government', 'election', 'party', 'say', 'people', 'blair', 'new', 'labour', 'public']\n",
      "top 10 words from topic 5: ['tv', 'many', 'games', 'technology', 'mobile', 'music', 'digital', 'users', 'people', 'new']\n"
     ]
    }
   ],
   "source": [
    "# recover expected betas\n",
    "n_largest = 10\n",
    "for topic in range(n_topics):\n",
    "    top_n = np.argpartition(model._expElogbeta[topic], -n_largest)[-n_largest:]\n",
    "    print(f\"top {n_largest} words from topic {topic+1}: {[list(vocab.keys())[i] for i in top_n]}\")"
   ]
  },
  {
   "cell_type": "code",
   "execution_count": 14,
   "id": "e3176c3d",
   "metadata": {},
   "outputs": [
    {
     "name": "stdout",
     "output_type": "stream",
     "text": [
      "world\n",
      "england\n",
      "back\n",
      "win\n",
      "year\n",
      "time\n",
      "match\n",
      "game\n",
      "first\n",
      "two\n",
      "\n",
      "\n",
      "economy\n",
      "years\n",
      "sales\n",
      "year\n",
      "company\n",
      "new\n",
      "growth\n",
      "last\n",
      "us\n",
      "market\n",
      "\n",
      "\n",
      "films\n",
      "show\n",
      "number\n",
      "star\n",
      "music\n",
      "awards\n",
      "award\n",
      "years\n",
      "film\n",
      "best\n",
      "\n",
      "\n",
      "minister\n",
      "government\n",
      "election\n",
      "party\n",
      "say\n",
      "people\n",
      "blair\n",
      "new\n",
      "labour\n",
      "public\n",
      "\n",
      "\n",
      "tv\n",
      "many\n",
      "games\n",
      "technology\n",
      "mobile\n",
      "music\n",
      "digital\n",
      "users\n",
      "people\n",
      "new\n",
      "\n",
      "\n"
     ]
    }
   ],
   "source": [
    "# for formatting later\n",
    "for topic in range(n_topics):\n",
    "    top_n = np.argpartition(model._expElogbeta[topic], -n_largest)[-n_largest:]\n",
    "    out = \"\"\n",
    "    for i in top_n:\n",
    "        out += list(vocab.keys())[i] + \"\\n\"\n",
    "\n",
    "    print(out)\n",
    "    print()"
   ]
  },
  {
   "cell_type": "code",
   "execution_count": 14,
   "id": "c8df0dc2",
   "metadata": {},
   "outputs": [
    {
     "name": "stdout",
     "output_type": "stream",
     "text": [
      " Quarterly profits at US media giant TimeWarner jumped 76% to $1.13bn (£600m) for the three months to December, from $639m year-earlier.  The firm, which is now one of the biggest investors in Google, benefited from sales of high-speed internet connections and higher advert sales. TimeWarner said fourth quarter sales rose 2% to $11.1bn from $10.9bn. Its profits were buoyed by one-off gains which offset a profit dip at Warner Bros, and less users for AOL.  Time Warner said on Friday that it now owns 8% of search-engine Google. But its own internet business, AOL, had has mixed fortunes. It lost 464,000 subscribers in the fourth quarter profits were lower than in the preceding three quarters. However, the company said AOL's underlying profit before exceptional items rose 8% on the back of stronger internet advertising revenues. It hopes to increase subscribers by offering the online service free to TimeWarner internet customers and will try to sign up AOL's existing customers for high-speed broadband. TimeWarner also has to restate 2000 and 2003 results following a probe by the US Securities Exchange Commission (SEC), which is close to concluding.  Time Warner's fourth quarter profits were slightly better than analysts' expectations. But its film division saw profits slump 27% to $284m, helped by box-office flops Alexander and Catwoman, a sharp contrast to year-earlier, when the third and final film in the Lord of the Rings trilogy boosted results. For the full-year, TimeWarner posted a profit of $3.36bn, up 27% from its 2003 performance, while revenues grew 6.4% to $42.09bn. \"Our financial performance was strong, meeting or exceeding all of our full-year objectives and greatly enhancing our flexibility,\" chairman and chief executive Richard Parsons said. For 2005, TimeWarner is projecting operating earnings growth of around 5%, and also expects higher revenue and wider profit margins.  TimeWarner is to restate its accounts as part of efforts to resolve an inquiry into AOL by US market regulators. It has already offered to pay $300m to settle charges, in a deal that is under review by the SEC. The company said it was unable to estimate the amount it needed to set aside for legal reserves, which it previously set at $500m. It intends to adjust the way it accounts for a deal with German music publisher Bertelsmann's purchase of a stake in AOL Europe, which it had reported as advertising revenue. It will now book the sale of its stake in AOL Europe as a loss on the value of that stake. \n",
      "[0.23081256 0.18907659 0.17580505 0.21762934 0.18667645]\n"
     ]
    }
   ],
   "source": [
    "# read an article\n",
    "import pandas as pd\n",
    "df = pd.read_csv(\"bbc-news-data.csv\", sep=\"\\t\")\n",
    "\n",
    "article_idx = 0\n",
    "article = df.iloc[article_idx].content\n",
    "print(article)\n",
    "\n",
    "# make a prediction\n",
    "topics = model.get_topics_for_article(article)[0]\n",
    "topics = topics / np.sum(topics)\n",
    "print(topics)"
   ]
  },
  {
   "cell_type": "code",
   "execution_count": 15,
   "id": "9c3f1319",
   "metadata": {},
   "outputs": [
    {
     "data": {
      "text/plain": [
       "144608.19235747983"
      ]
     },
     "execution_count": 15,
     "metadata": {},
     "output_type": "execute_result"
    }
   ],
   "source": [
    "# compute perplexity of model\n",
    "# alpha, eta, perplexity\n",
    "# 0.1, 0.01, 14906237\n",
    "# 0.1, 0.10, 184630\n",
    "# 0.1, 0.50, 137403\n",
    "# 0.5, 0.10, 165868\n",
    "model.perplexity_holdout(test_word_ids, test_word_cts)"
   ]
  },
  {
   "cell_type": "code",
   "execution_count": 13,
   "id": "3393f473",
   "metadata": {},
   "outputs": [
    {
     "name": "stdout",
     "output_type": "stream",
     "text": [
      "Training model with K=3...\n",
      "Training model with K=5...\n",
      "Training model with K=7...\n",
      "Training model with K=10...\n",
      "Training model with K=13...\n",
      "Training model with K=15...\n",
      "Training model with K=17...\n",
      "Training model with K=20...\n"
     ]
    }
   ],
   "source": [
    "# try different K values and compute perplexity for each\n",
    "n_topics_to_try = [3, 5, 7, 10, 13, 15, 17, 20]\n",
    "perplexities = []\n",
    "\n",
    "n_train = len(train_word_ids)\n",
    "batch_size = 20\n",
    "n_batches = int(np.ceil(n_train / batch_size))\n",
    "\n",
    "np.random.seed(np.sum([ord(c) for c in \"UCI CS 275P Perplexities\"]))\n",
    "\n",
    "for K in n_topics_to_try:\n",
    "    print(f\"Training model with K={K}...\")\n",
    "    # define the model\n",
    "    model = LDA(vocab, K, len(train_word_ids), alpha, eta, learning_offset, kappa, maxiters, thres)\n",
    "\n",
    "    # train\n",
    "    for epoch in range(n_epochs):\n",
    "        # shuffle the batch\n",
    "        shuffle = np.random.permutation(train_idx)\n",
    "        train_word_ids = [word_ids[j] for j in shuffle]\n",
    "        train_word_cts = [word_cts[j] for j in shuffle]\n",
    "        for i in range(n_batches):\n",
    "            start = i*batch_size\n",
    "            end = min(len(train_word_ids), (i+1)*batch_size)\n",
    "            batch_ids = train_word_ids[start:end]\n",
    "            batch_cts = train_word_cts[start:end]\n",
    "\n",
    "            gamma, bound = model.update_lambda(batch_ids, batch_cts)\n",
    "\n",
    "    # get perplexity and append to the list\n",
    "    # compute 5 perplexities and append the median\n",
    "    perps = []\n",
    "    for i in range(5):\n",
    "        perps.append(model.perplexity_holdout(test_word_ids, test_word_cts))\n",
    "    perplexities.append(np.max(perps))"
   ]
  },
  {
   "cell_type": "code",
   "execution_count": 14,
   "id": "e7519d26",
   "metadata": {},
   "outputs": [
    {
     "data": {
      "image/png": "[encoded data removed]",
      "text/plain": [
       "<Figure size 640x480 with 1 Axes>"
      ]
     },
     "metadata": {},
     "output_type": "display_data"
    }
   ],
   "source": [
    "plt.plot(n_topics_to_try, perplexities)\n",
    "plt.title(\"Perplexities for our LDA implementation\")\n",
    "plt.xlabel(\"n topics\")\n",
    "plt.ylabel(\"Perplexity\")\n",
    "plt.show()"
   ]
  },
  {
   "cell_type": "code",
   "execution_count": 15,
   "id": "5c00a074",
   "metadata": {},
   "outputs": [
    {
     "data": {
      "text/plain": [
       "[87077.75715506618,\n",
       " 138741.37852407037,\n",
       " 193527.6835420943,\n",
       " 300025.7707614805,\n",
       " 410541.63521041244,\n",
       " 487306.0197644807,\n",
       " 545841.7809537646,\n",
       " 680039.6719113739]"
      ]
     },
     "execution_count": 15,
     "metadata": {},
     "output_type": "execute_result"
    }
   ],
   "source": [
    "perplexities"
   ]
  },
  {
   "cell_type": "markdown",
   "id": "3c9f7aa9",
   "metadata": {},
   "source": [
    "# Comparison to sklearn LDA"
   ]
  },
  {
   "cell_type": "code",
   "execution_count": 16,
   "id": "2ba9b347",
   "metadata": {},
   "outputs": [],
   "source": [
    "# i want to compare it to the scikit-learn LDA implementation\n",
    "from sklearn.decomposition import LatentDirichletAllocation\n",
    "import pandas as pd\n",
    "from nltk.tokenize import RegexpTokenizer\n",
    "from sklearn.feature_extraction.text import TfidfVectorizer"
   ]
  },
  {
   "cell_type": "code",
   "execution_count": 17,
   "id": "c1c6c299",
   "metadata": {},
   "outputs": [
    {
     "name": "stderr",
     "output_type": "stream",
     "text": [
      "C:\\Users\\timot\\AppData\\Local\\Programs\\Python\\Python312\\Lib\\site-packages\\sklearn\\feature_extraction\\text.py:517: UserWarning: The parameter 'token_pattern' will not be used since 'tokenizer' is not None'\n",
      "  warnings.warn(\n"
     ]
    }
   ],
   "source": [
    "# get & transform data\n",
    "df = pd.read_csv(\"bbc-news-data.csv\", sep='\\t')\n",
    "train_docs = df.iloc[train_idx].content.tolist()\n",
    "\n",
    "tokenizer = RegexpTokenizer(r'\\w+')\n",
    "\n",
    "tfidf = TfidfVectorizer(lowercase=True, \n",
    "                        vocabulary=vocab.keys(), \n",
    "                        ngram_range=(1,1), \n",
    "                        tokenizer=tokenizer.tokenize)\n",
    "\n",
    "train_data = tfidf.fit_transform(train_docs)\n",
    "\n",
    "n_components=5\n",
    "\n",
    "model = LatentDirichletAllocation(n_components=n_components,\n",
    "                                  doc_topic_prior=alpha, \n",
    "                                  topic_word_prior=eta,\n",
    "                                  learning_decay=kappa,\n",
    "                                  learning_offset=learning_offset,\n",
    "                                  batch_size=batch_size,\n",
    "                                  max_iter=n_epochs,\n",
    "                                  max_doc_update_iter=maxiters,\n",
    "                                  mean_change_tol=thres)\n",
    "\n",
    "# fit & transform model on data\n",
    "np.random.seed(np.sum([ord(c) for c in \"UCI CS 275P sklearn train\"]))\n",
    "\n",
    "lda_matrix = model.fit_transform(train_data)\n",
    "lda_components = model.components_"
   ]
  },
  {
   "cell_type": "code",
   "execution_count": 18,
   "id": "4a11d64a",
   "metadata": {},
   "outputs": [
    {
     "name": "stdout",
     "output_type": "stream",
     "text": [
      "Topic 0: ['film', 'year', 'best', 'world', 'game', 'us', 'two']\n",
      "Topic 1: ['people', 'year', 'us', 'new', 'labour', 'brown', 'search']\n",
      "Topic 2: ['best', 'year', 'england', 'film', 'people', 'game', 'us']\n",
      "Topic 3: ['us', 'year', 'government', 'people', 'yukos', 'oil', 'new']\n",
      "Topic 4: ['year', 'new', 'us', 'people', 'uk', 'government', 'first']\n"
     ]
    }
   ],
   "source": [
    "terms = tfidf.get_feature_names_out()\n",
    "\n",
    "for idx, comp in enumerate(lda_components):\n",
    "    zipped = zip(terms, comp)\n",
    "    top_terms_key = sorted(zipped, key=lambda t: t[1], reverse=True)[:7]\n",
    "    top_terms_list=list(dict(top_terms_key).keys())\n",
    "    print(f\"Topic {idx}: {top_terms_list}\")\n",
    "    "
   ]
  },
  {
   "cell_type": "code",
   "execution_count": 19,
   "id": "7f7f3777",
   "metadata": {},
   "outputs": [
    {
     "data": {
      "text/plain": [
       "189994.72404718827"
      ]
     },
     "execution_count": 19,
     "metadata": {},
     "output_type": "execute_result"
    }
   ],
   "source": [
    "test_idx = [i for i in range(len(word_ids)) if i not in train_idx]\n",
    "test_docs = df.iloc[train_idx].content.tolist()\n",
    "test_data = tfidf.fit_transform(test_docs)\n",
    "\n",
    "model.perplexity(test_data)"
   ]
  },
  {
   "cell_type": "code",
   "execution_count": 20,
   "id": "1624e9d4",
   "metadata": {},
   "outputs": [
    {
     "name": "stdout",
     "output_type": "stream",
     "text": [
      "Training model with K=3...\n",
      "Training model with K=5...\n",
      "Training model with K=7...\n",
      "Training model with K=10...\n",
      "Training model with K=13...\n",
      "Training model with K=15...\n",
      "Training model with K=17...\n",
      "Training model with K=20...\n"
     ]
    }
   ],
   "source": [
    "# test perplexities for different topic counts\n",
    "n_topics_to_try = [3, 5, 7, 10, 13, 15, 17, 20]\n",
    "perplexities = []\n",
    "\n",
    "np.random.seed(np.sum([ord(c) for c in \"UCI CS 275P sklearn\"]))\n",
    "\n",
    "for K in n_topics_to_try:\n",
    "    print(f\"Training model with K={K}...\")\n",
    "    # define the model\n",
    "    model = LatentDirichletAllocation(n_components=K,\n",
    "                                  doc_topic_prior=alpha, \n",
    "                                  topic_word_prior=eta,\n",
    "                                  learning_decay=kappa,\n",
    "                                  learning_offset=learning_offset,\n",
    "                                  batch_size=batch_size,\n",
    "                                  max_iter=n_epochs,\n",
    "                                  max_doc_update_iter=maxiters,\n",
    "                                  mean_change_tol=thres)\n",
    "\n",
    "    # train\n",
    "    lda_matrix = model.fit_transform(train_data)\n",
    "\n",
    "    # compute 5 perplexities and append the median\n",
    "    perps = []\n",
    "    model.perplexity(test_data)\n",
    "    for i in range(5):\n",
    "        perps.append(model.perplexity(test_data))\n",
    "    perplexities.append(np.max(perps))"
   ]
  },
  {
   "cell_type": "code",
   "execution_count": 21,
   "id": "d8228f18",
   "metadata": {},
   "outputs": [
    {
     "data": {
      "image/png": "[encoded data removed]",
      "text/plain": [
       "<Figure size 640x480 with 1 Axes>"
      ]
     },
     "metadata": {},
     "output_type": "display_data"
    }
   ],
   "source": [
    "plt.plot(n_topics_to_try, perplexities)\n",
    "plt.title(\"Perplexities for sklearn LDA\")\n",
    "plt.xlabel(\"n topics\")\n",
    "plt.ylabel(\"Perplexity\")\n",
    "plt.show()"
   ]
  },
  {
   "cell_type": "code",
   "execution_count": 22,
   "id": "9ad0cd70",
   "metadata": {},
   "outputs": [
    {
     "data": {
      "text/plain": [
       "[110983.48002542995,\n",
       " 178113.17233687796,\n",
       " 289846.40999186307,\n",
       " 397707.29561889934,\n",
       " 663607.3602781153,\n",
       " 688100.6299740911,\n",
       " 648743.1707357329,\n",
       " 1214339.0002362658]"
      ]
     },
     "execution_count": 22,
     "metadata": {},
     "output_type": "execute_result"
    }
   ],
   "source": [
    "perplexities"
   ]
  },
  {
   "cell_type": "code",
   "execution_count": null,
   "id": "dcc34a20",
   "metadata": {},
   "outputs": [],
   "source": []
  }
 ],
 "metadata": {
  "kernelspec": {
   "display_name": "Python 3",
   "language": "python",
   "name": "python3"
  },
  "language_info": {
   "codemirror_mode": {
    "name": "ipython",
    "version": 3
   },
   "file_extension": ".py",
   "mimetype": "text/x-python",
   "name": "python",
   "nbconvert_exporter": "python",
   "pygments_lexer": "ipython3",
   "version": "3.12.7"
  }
 },
 "nbformat": 4,
 "nbformat_minor": 5
}
